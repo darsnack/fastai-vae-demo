{
    "cells": [
        {
            "cell_type": "markdown",
            "source": [
                "# FastAI.jl VAE Demo"
            ],
            "metadata": {}
        },
        {
            "cell_type": "code",
            "execution_count": 1,
            "source": [
                "using CUDA\n",
                "using FastAI\n",
                "using FastAI: FluxTraining\n",
                "using MLDataPattern\n",
                "using Flux\n",
                "using Flux.Zygote: Params\n",
                "using Flux.Optimise: update!\n",
                "using Statistics: mean\n",
                "using StaticArrays\n",
                "using Colors\n",
                "using Images"
            ],
            "outputs": [],
            "metadata": {}
        },
        {
            "cell_type": "markdown",
            "source": [
                "We will train a variational auto-encoder (VAE) model to encode images from the MNIST dataset to latent space, while still being able to accurately decode the latent samples.\n",
                "\n",
                "The overall pipeline looks like this:\n",
                "\n",
                "![Diagram of VAE](https://github.com/darsnack/fastai-vae-demo/raw/main/vae.png)\n",
                "\n",
                "As you can see, this is an unsupervised learning scheme, since we only need input images (no labels). Below, we'll demonstrate how FastAI.jl handles this unconventional training flow."
            ],
            "metadata": {}
        },
        {
            "cell_type": "code",
            "execution_count": 2,
            "source": [
                "function Base.show(io::IO, method::BlockMethod{<:FastAI.Block})\n",
                "    print(io, \"BlockMethod(\", typeof(method.blocks), \" -> \", typeof(method.blocks), \")\")\n",
                "end\n",
                "\n",
                "function FastAI.BlockMethod(block::FastAI.Block, encodings; outputblock = FastAI.encodedblock(encodings, block))\n",
                "    return BlockMethod(block, encodings, outputblock)\n",
                "end\n",
                "\n",
                "function FastAI.plotsample!(f, method::BlockMethod{<:FastAI.Block}, sample)\n",
                "\tblocks = (method.blocks, method.blocks)\n",
                "    contexts = FastAI.plotcontext(blocks)\n",
                "    FastAI.plotsample!(f, contexts, blocks, sample)\n",
                "end\n",
                "\n",
                "function FastAI.plotxy!(f, method::BlockMethod{<:FastAI.Block}, x, x̂)\n",
                "    input, target = decode(\n",
                "\t\tmethod.encodings,\n",
                "\t\tValidation(),\n",
                "\t\t(method.outputblock, method.outputblock),\n",
                "\t\t(x, x̂))\n",
                "    FastAI.plotsample!(f, method, (input, target))\n",
                "end\n",
                "\n",
                "FastAI.plotblock!(ax, ::Image{2}, data; kwargs...) = FastAI.plotimage!(ax, clamp01.(data); kwargs...)"
            ],
            "outputs": [],
            "metadata": {}
        },
        {
            "cell_type": "markdown",
            "source": [
                "## Loading the data\n",
                "\n",
                "Below, we load the MNIST dataset just like we would for supervised training. No changes required here!"
            ],
            "metadata": {}
        },
        {
            "cell_type": "code",
            "execution_count": 3,
            "source": [
                "path = datasetpath(\"mnist_png\")\n",
                "data = Datasets.loadfolderdata(path,\n",
                "                               filterfn = isimagefile,\n",
                "                               splitfn = grandparentname,\n",
                "                               loadfn = (loadfile, parentname))"
            ],
            "outputs": [
                {
                    "data": {
                        "text/plain": [
                            "Dict{String, Tuple{FastAI.Datasets.MappedData{typeof(loadfile), SubArray{String, 1, Vector{String}, Tuple{Vector{Int64}}, false}}, FastAI.Datasets.MappedData{typeof(parentname), SubArray{String, 1, Vector{String}, Tuple{Vector{Int64}}, false}}}} with 2 entries:\n",
                            "  \"testing\"  => (mapobs(loadfile, [\"/home/daruwalla/.julia/datadeps/fastai-mnis…\n",
                            "  \"training\" => (mapobs(loadfile, [\"/home/daruwalla/.julia/datadeps/fastai-mnis…"
                        ]
                    },
                    "metadata": {},
                    "output_type": "display_data"
                }
            ],
            "metadata": {}
        },
        {
            "cell_type": "markdown",
            "source": [
                "We also define a `BlockMethod` using the same syntax as before except we don't specify a label."
            ],
            "metadata": {}
        },
        {
            "cell_type": "code",
            "execution_count": 4,
            "source": [
                "method = BlockMethod(\n",
                "\tImage{2}(),\n",
                "\t(ImagePreprocessing(means=SVector(0.0,), stds=SVector(1.), C=Gray{Float32})),\n",
                ")"
            ],
            "outputs": [
                {
                    "data": {
                        "text/plain": [
                            "BlockMethod(Image{2} -> Image{2})"
                        ]
                    },
                    "metadata": {},
                    "output_type": "display_data"
                }
            ],
            "metadata": {}
        },
        {
            "cell_type": "markdown",
            "source": [
                "## Custom model and loss function\n",
                "\n",
                "Next we create a VAE model composed of a two layer MLP for the encoder and decoder. Our latent space will be two dimensional (we are encoding a 28x28 image to 2D!)."
            ],
            "metadata": {}
        },
        {
            "cell_type": "code",
            "execution_count": 5,
            "source": [
                "Din = prod(size(getobs(data[\"training\"][1], 1)))\n",
                "Dhidden = 512\n",
                "Dlatent = 2\n",
                "\n",
                "encoder = Chain(Dense(Din, Dhidden, relu), # backbone\n",
                "                Parallel(tuple,\n",
                "                         Dense(Dhidden, Dlatent), # μ\n",
                "                         Dense(Dhidden, Dlatent)  # logσ²\n",
                "                         )) |> gpu"
            ],
            "outputs": [
                {
                    "data": {
                        "text/plain": [
                            "Chain(\n",
                            "  Dense(784, 512, relu),                \u001b[90m# 401_920 parameters\u001b[39m\n",
                            "  Parallel(\n",
                            "    tuple,\n",
                            "    Dense(512, 2),                      \u001b[90m# 1_026 parameters\u001b[39m\n",
                            "    Dense(512, 2),                      \u001b[90m# 1_026 parameters\u001b[39m\n",
                            "  ),\n",
                            ")\u001b[90m                   # Total: 6 arrays, \u001b[39m403_972 parameters, 528 bytes."
                        ]
                    },
                    "metadata": {},
                    "output_type": "display_data"
                }
            ],
            "metadata": {}
        },
        {
            "cell_type": "code",
            "execution_count": 6,
            "source": [
                "decoder = Chain(Dense(Dlatent, Dhidden, relu), Dense(Dhidden, Din, sigmoid)) |> gpu"
            ],
            "outputs": [
                {
                    "data": {
                        "text/plain": [
                            "Chain(\n",
                            "  Dense(2, 512, relu),                  \u001b[90m# 1_536 parameters\u001b[39m\n",
                            "  Dense(512, 784, σ),                   \u001b[90m# 402_192 parameters\u001b[39m\n",
                            ")\u001b[90m                   # Total: 4 arrays, \u001b[39m403_728 parameters, 312 bytes."
                        ]
                    },
                    "metadata": {},
                    "output_type": "display_data"
                }
            ],
            "metadata": {}
        },
        {
            "cell_type": "markdown",
            "source": [
                "We also define a custom loss function (called the ELBO) and a utility to help us sample the latent space"
            ],
            "metadata": {}
        },
        {
            "cell_type": "code",
            "execution_count": 7,
            "source": [
                "sample_latent(μ::AbstractArray{T}, logσ²::AbstractArray{T}) where T =\n",
                "    μ .+ exp.(logσ² ./ 2) .* randn(T, size(logσ²))\n",
                "\n",
                "sample_latent(μ::CuArray{T}, logσ²::CuArray{T}) where T =\n",
                "    μ .+ exp.(logσ² ./ 2) .* gpu(randn(T, size(logσ²)))\n",
                "\n",
                "function βELBO(x, x̄, μ, logσ²; β = 1)\n",
                "    reconstruction_error = mean(sum(@.((x̄ - x)^2); dims = 1))\n",
                "    # D(N(μ, Σ)||N(0, I)) = 1/2 * (μᵀμ + tr(Σ) - length(μ) - log(|Σ|))\n",
                "    kl_divergence = mean(sum(@.((μ^2 + exp(logσ²) - 1 - logσ²) / 2); dims = 1))\n",
                "\n",
                "    return reconstruction_error + β * kl_divergence\n",
                "end"
            ],
            "outputs": [
                {
                    "data": {
                        "text/plain": [
                            "βELBO (generic function with 1 method)"
                        ]
                    },
                    "metadata": {},
                    "output_type": "display_data"
                }
            ],
            "metadata": {}
        },
        {
            "cell_type": "markdown",
            "source": [
                "## Creating a `Learner`\n",
                "\n",
                "Now we instantiate FastAI.jl's `Learner` which encapsulates our training data, model, loss function, and optimizer. Notice that we didn't do anything special for our data, model, or loss that wasn't present in an image classification example."
            ],
            "metadata": {}
        },
        {
            "cell_type": "code",
            "execution_count": 14,
            "source": [
                "model = (encoder = encoder, decoder = decoder)\n",
                "opt = ADAM(1e-3)\n",
                "dataiter = DataLoader(batchviewcollated(methoddataset(data[\"training\"][1], method, Training()), 128); buffered = false)\n",
                "learner = Learner(model, (training = dataiter,), opt, βELBO, ToGPU())\n",
                "FluxTraining.removecallback!(learner, ProgressPrinter)\n",
                ";"
            ],
            "outputs": [],
            "metadata": {}
        },
        {
            "cell_type": "markdown",
            "source": [
                "## Custom training loop\n",
                "\n",
                "When dealing with a unconvential learning scheme, we usually need to write a custom training loop. FastAI.jl is build on top of FluxTraining.jl which makes writing custom loops easy. In fact, the built-in learning schemes use the _exact_ same framework as you'll see below."
            ],
            "metadata": {}
        },
        {
            "cell_type": "code",
            "execution_count": 10,
            "source": [
                "struct VAETrainingPhase <: FluxTraining.AbstractTrainingPhase end"
            ],
            "outputs": [],
            "metadata": {}
        },
        {
            "cell_type": "markdown",
            "source": [
                "We just defined our own training phase. All that's required for our phase to take advantage of the FastAI.jl framework is to define the `FluxTraining.step!` function. We'll use a utility, `FluxTraining.runstep`, to make handling callback events, etc. simple. `runstep`'s first argument is a function with inputs `(handle, state)`. `handle` is how we indicate different events, such as the start of the gradient computation, to FluxTraining's loop system. `state` holds data generated on each call to `step!` like the batch, gradients, and loss. We initialize it to contain our batch: `(x = batch,)`."
            ],
            "metadata": {}
        },
        {
            "cell_type": "code",
            "execution_count": 11,
            "source": [
                "function FluxTraining.step!(learner, phase::VAETrainingPhase, batch)\n",
                "    FluxTraining.runstep(learner, phase, (x = batch,)) do handle, state\n",
                "        ps = union(learner.params...)\n",
                "        x = flatten(dropdims(state.x; dims = ndims(state.x)))\n",
                "        gs = gradient(ps) do\n",
                "            # get encode, sample latent space, decode\n",
                "            μ, logσ² = learner.model.encoder(x)\n",
                "            z = sample_latent(μ, logσ²)\n",
                "            x̄ = learner.model.decoder(z)\n",
                "\n",
                "            handle(FluxTraining.LossBegin())\n",
                "            state.loss = learner.lossfn(x, x̄, μ, logσ²)\n",
                "\n",
                "            handle(FluxTraining.BackwardBegin())\n",
                "            return state.loss\n",
                "        end\n",
                "        handle(FluxTraining.BackwardEnd())\n",
                "        update!(learner.optimizer, ps, gs)\n",
                "    end\n",
                "end\n",
                "\n",
                "# for ToGPU to work\n",
                "function FluxTraining.on(::FluxTraining.StepBegin, ::VAETrainingPhase, cb::ToDevice, learner)\n",
                "    learner.step.x = cb.movedatafn(learner.step.x)\n",
                "end"
            ],
            "outputs": [],
            "metadata": {}
        },
        {
            "cell_type": "markdown",
            "source": [
                "## Training the model\n",
                "\n",
                "And that's it! We can now train our model like any other `Learner` in FastAI.jl. We just need to specify that the `VAETrainingPhase` should be run instead of the default `FluxTraining.TrainingPhase`."
            ],
            "metadata": {}
        },
        {
            "cell_type": "code",
            "execution_count": 22,
            "source": [
                "for epoch in 1:30\n",
                "    epoch!(learner, VAETrainingPhase())\n",
                "end"
            ],
            "outputs": [
                {
                    "output_type": "stream",
                    "name": "stdout",
                    "text": [
                        "┌──────────────────┬───────┬─────────┐\n",
                        "│\u001b[1m            Phase \u001b[0m│\u001b[1m Epoch \u001b[0m│\u001b[1m    Loss \u001b[0m│\n",
                        "├──────────────────┼───────┼─────────┤\n",
                        "│ VAETrainingPhase │  11.0 │ 42.5983 │\n",
                        "└──────────────────┴───────┴─────────┘\n"
                    ]
                },
                {
                    "output_type": "stream",
                    "name": "stdout",
                    "text": [
                        "┌──────────────────┬───────┬─────────┐\n",
                        "│\u001b[1m            Phase \u001b[0m│\u001b[1m Epoch \u001b[0m│\u001b[1m    Loss \u001b[0m│\n",
                        "├──────────────────┼───────┼─────────┤\n",
                        "│ VAETrainingPhase │  12.0 │ 42.3849 │\n",
                        "└──────────────────┴───────┴─────────┘\n"
                    ]
                },
                {
                    "output_type": "stream",
                    "name": "stdout",
                    "text": [
                        "┌──────────────────┬───────┬─────────┐\n",
                        "│\u001b[1m            Phase \u001b[0m│\u001b[1m Epoch \u001b[0m│\u001b[1m    Loss \u001b[0m│\n",
                        "├──────────────────┼───────┼─────────┤\n",
                        "│ VAETrainingPhase │  13.0 │ 42.3046 │\n",
                        "└──────────────────┴───────┴─────────┘\n"
                    ]
                },
                {
                    "output_type": "stream",
                    "name": "stdout",
                    "text": [
                        "┌──────────────────┬───────┬─────────┐\n",
                        "│\u001b[1m            Phase \u001b[0m│\u001b[1m Epoch \u001b[0m│\u001b[1m    Loss \u001b[0m│\n",
                        "├──────────────────┼───────┼─────────┤\n",
                        "│ VAETrainingPhase │  14.0 │ 42.1716 │\n",
                        "└──────────────────┴───────┴─────────┘\n"
                    ]
                },
                {
                    "output_type": "stream",
                    "name": "stdout",
                    "text": [
                        "┌──────────────────┬───────┬─────────┐\n",
                        "│\u001b[1m            Phase \u001b[0m│\u001b[1m Epoch \u001b[0m│\u001b[1m    Loss \u001b[0m│\n",
                        "├──────────────────┼───────┼─────────┤\n",
                        "│ VAETrainingPhase │  15.0 │ 42.0651 │\n",
                        "└──────────────────┴───────┴─────────┘\n"
                    ]
                },
                {
                    "output_type": "stream",
                    "name": "stdout",
                    "text": [
                        "┌──────────────────┬───────┬─────────┐\n",
                        "│\u001b[1m            Phase \u001b[0m│\u001b[1m Epoch \u001b[0m│\u001b[1m    Loss \u001b[0m│\n",
                        "├──────────────────┼───────┼─────────┤\n",
                        "│ VAETrainingPhase │  16.0 │ 42.1084 │\n",
                        "└──────────────────┴───────┴─────────┘\n"
                    ]
                },
                {
                    "output_type": "stream",
                    "name": "stdout",
                    "text": [
                        "┌──────────────────┬───────┬─────────┐\n",
                        "│\u001b[1m            Phase \u001b[0m│\u001b[1m Epoch \u001b[0m│\u001b[1m    Loss \u001b[0m│\n",
                        "├──────────────────┼───────┼─────────┤\n",
                        "│ VAETrainingPhase │  17.0 │ 41.9515 │\n",
                        "└──────────────────┴───────┴─────────┘\n"
                    ]
                },
                {
                    "output_type": "stream",
                    "name": "stdout",
                    "text": [
                        "┌──────────────────┬───────┬─────────┐\n",
                        "│\u001b[1m            Phase \u001b[0m│\u001b[1m Epoch \u001b[0m│\u001b[1m    Loss \u001b[0m│\n",
                        "├──────────────────┼───────┼─────────┤\n",
                        "│ VAETrainingPhase │  18.0 │ 41.8969 │\n",
                        "└──────────────────┴───────┴─────────┘\n"
                    ]
                },
                {
                    "output_type": "stream",
                    "name": "stdout",
                    "text": [
                        "┌──────────────────┬───────┬─────────┐\n",
                        "│\u001b[1m            Phase \u001b[0m│\u001b[1m Epoch \u001b[0m│\u001b[1m    Loss \u001b[0m│\n",
                        "├──────────────────┼───────┼─────────┤\n",
                        "│ VAETrainingPhase │  19.0 │ 41.7652 │\n",
                        "└──────────────────┴───────┴─────────┘\n"
                    ]
                },
                {
                    "output_type": "stream",
                    "name": "stdout",
                    "text": [
                        "┌──────────────────┬───────┬─────────┐\n",
                        "│\u001b[1m            Phase \u001b[0m│\u001b[1m Epoch \u001b[0m│\u001b[1m    Loss \u001b[0m│\n",
                        "├──────────────────┼───────┼─────────┤\n",
                        "│ VAETrainingPhase │  20.0 │ 41.6746 │\n",
                        "└──────────────────┴───────┴─────────┘\n"
                    ]
                },
                {
                    "output_type": "stream",
                    "name": "stdout",
                    "text": [
                        "┌──────────────────┬───────┬─────────┐\n",
                        "│\u001b[1m            Phase \u001b[0m│\u001b[1m Epoch \u001b[0m│\u001b[1m    Loss \u001b[0m│\n",
                        "├──────────────────┼───────┼─────────┤\n",
                        "│ VAETrainingPhase │  21.0 │ 41.6284 │\n",
                        "└──────────────────┴───────┴─────────┘\n"
                    ]
                },
                {
                    "output_type": "stream",
                    "name": "stdout",
                    "text": [
                        "┌──────────────────┬───────┬─────────┐\n",
                        "│\u001b[1m            Phase \u001b[0m│\u001b[1m Epoch \u001b[0m│\u001b[1m    Loss \u001b[0m│\n",
                        "├──────────────────┼───────┼─────────┤\n",
                        "│ VAETrainingPhase │  22.0 │ 41.5284 │\n",
                        "└──────────────────┴───────┴─────────┘\n"
                    ]
                },
                {
                    "output_type": "stream",
                    "name": "stdout",
                    "text": [
                        "┌──────────────────┬───────┬─────────┐\n",
                        "│\u001b[1m            Phase \u001b[0m│\u001b[1m Epoch \u001b[0m│\u001b[1m    Loss \u001b[0m│\n",
                        "├──────────────────┼───────┼─────────┤\n",
                        "│ VAETrainingPhase │  23.0 │ 41.4756 │\n",
                        "└──────────────────┴───────┴─────────┘\n"
                    ]
                },
                {
                    "output_type": "stream",
                    "name": "stdout",
                    "text": [
                        "┌──────────────────┬───────┬─────────┐\n",
                        "│\u001b[1m            Phase \u001b[0m│\u001b[1m Epoch \u001b[0m│\u001b[1m    Loss \u001b[0m│\n",
                        "├──────────────────┼───────┼─────────┤\n",
                        "│ VAETrainingPhase │  24.0 │ 41.4307 │\n",
                        "└──────────────────┴───────┴─────────┘\n"
                    ]
                },
                {
                    "output_type": "stream",
                    "name": "stdout",
                    "text": [
                        "┌──────────────────┬───────┬─────────┐\n",
                        "│\u001b[1m            Phase \u001b[0m│\u001b[1m Epoch \u001b[0m│\u001b[1m    Loss \u001b[0m│\n",
                        "├──────────────────┼───────┼─────────┤\n",
                        "│ VAETrainingPhase │  25.0 │ 41.3747 │\n",
                        "└──────────────────┴───────┴─────────┘\n"
                    ]
                },
                {
                    "output_type": "stream",
                    "name": "stdout",
                    "text": [
                        "┌──────────────────┬───────┬─────────┐\n",
                        "│\u001b[1m            Phase \u001b[0m│\u001b[1m Epoch \u001b[0m│\u001b[1m    Loss \u001b[0m│\n",
                        "├──────────────────┼───────┼─────────┤\n",
                        "│ VAETrainingPhase │  26.0 │ 41.2909 │\n",
                        "└──────────────────┴───────┴─────────┘\n"
                    ]
                },
                {
                    "output_type": "stream",
                    "name": "stdout",
                    "text": [
                        "┌──────────────────┬───────┬─────────┐\n",
                        "│\u001b[1m            Phase \u001b[0m│\u001b[1m Epoch \u001b[0m│\u001b[1m    Loss \u001b[0m│\n",
                        "├──────────────────┼───────┼─────────┤\n",
                        "│ VAETrainingPhase │  27.0 │ 41.2312 │\n",
                        "└──────────────────┴───────┴─────────┘\n"
                    ]
                },
                {
                    "output_type": "stream",
                    "name": "stdout",
                    "text": [
                        "┌──────────────────┬───────┬────────┐\n",
                        "│\u001b[1m            Phase \u001b[0m│\u001b[1m Epoch \u001b[0m│\u001b[1m   Loss \u001b[0m│\n",
                        "├──────────────────┼───────┼────────┤\n",
                        "│ VAETrainingPhase │  28.0 │ 41.127 │\n",
                        "└──────────────────┴───────┴────────┘\n"
                    ]
                },
                {
                    "output_type": "stream",
                    "name": "stdout",
                    "text": [
                        "┌──────────────────┬───────┬─────────┐\n",
                        "│\u001b[1m            Phase \u001b[0m│\u001b[1m Epoch \u001b[0m│\u001b[1m    Loss \u001b[0m│\n",
                        "├──────────────────┼───────┼─────────┤\n",
                        "│ VAETrainingPhase │  29.0 │ 41.1028 │\n",
                        "└──────────────────┴───────┴─────────┘\n"
                    ]
                },
                {
                    "output_type": "stream",
                    "name": "stdout",
                    "text": [
                        "┌──────────────────┬───────┬─────────┐\n",
                        "│\u001b[1m            Phase \u001b[0m│\u001b[1m Epoch \u001b[0m│\u001b[1m    Loss \u001b[0m│\n",
                        "├──────────────────┼───────┼─────────┤\n",
                        "│ VAETrainingPhase │  30.0 │ 41.0604 │\n",
                        "└──────────────────┴───────┴─────────┘\n"
                    ]
                },
                {
                    "output_type": "stream",
                    "name": "stdout",
                    "text": [
                        "┌──────────────────┬───────┬────────┐\n",
                        "│\u001b[1m            Phase \u001b[0m│\u001b[1m Epoch \u001b[0m│\u001b[1m   Loss \u001b[0m│\n",
                        "├──────────────────┼───────┼────────┤\n",
                        "│ VAETrainingPhase │  31.0 │ 40.917 │\n",
                        "└──────────────────┴───────┴────────┘\n"
                    ]
                },
                {
                    "output_type": "stream",
                    "name": "stdout",
                    "text": [
                        "┌──────────────────┬───────┬─────────┐\n",
                        "│\u001b[1m            Phase \u001b[0m│\u001b[1m Epoch \u001b[0m│\u001b[1m    Loss \u001b[0m│\n",
                        "├──────────────────┼───────┼─────────┤\n",
                        "│ VAETrainingPhase │  32.0 │ 40.9141 │\n",
                        "└──────────────────┴───────┴─────────┘\n"
                    ]
                },
                {
                    "output_type": "stream",
                    "name": "stdout",
                    "text": [
                        "┌──────────────────┬───────┬────────┐\n",
                        "│\u001b[1m            Phase \u001b[0m│\u001b[1m Epoch \u001b[0m│\u001b[1m   Loss \u001b[0m│\n",
                        "├──────────────────┼───────┼────────┤\n",
                        "│ VAETrainingPhase │  33.0 │ 40.871 │\n",
                        "└──────────────────┴───────┴────────┘\n"
                    ]
                },
                {
                    "output_type": "stream",
                    "name": "stdout",
                    "text": [
                        "┌──────────────────┬───────┬─────────┐\n",
                        "│\u001b[1m            Phase \u001b[0m│\u001b[1m Epoch \u001b[0m│\u001b[1m    Loss \u001b[0m│\n",
                        "├──────────────────┼───────┼─────────┤\n",
                        "│ VAETrainingPhase │  34.0 │ 40.8114 │\n",
                        "└──────────────────┴───────┴─────────┘\n"
                    ]
                },
                {
                    "output_type": "stream",
                    "name": "stdout",
                    "text": [
                        "┌──────────────────┬───────┬─────────┐\n",
                        "│\u001b[1m            Phase \u001b[0m│\u001b[1m Epoch \u001b[0m│\u001b[1m    Loss \u001b[0m│\n",
                        "├──────────────────┼───────┼─────────┤\n",
                        "│ VAETrainingPhase │  35.0 │ 40.7814 │\n",
                        "└──────────────────┴───────┴─────────┘\n"
                    ]
                },
                {
                    "output_type": "stream",
                    "name": "stdout",
                    "text": [
                        "┌──────────────────┬───────┬─────────┐\n",
                        "│\u001b[1m            Phase \u001b[0m│\u001b[1m Epoch \u001b[0m│\u001b[1m    Loss \u001b[0m│\n",
                        "├──────────────────┼───────┼─────────┤\n",
                        "│ VAETrainingPhase │  36.0 │ 40.7848 │\n",
                        "└──────────────────┴───────┴─────────┘\n"
                    ]
                },
                {
                    "output_type": "stream",
                    "name": "stdout",
                    "text": [
                        "┌──────────────────┬───────┬─────────┐\n",
                        "│\u001b[1m            Phase \u001b[0m│\u001b[1m Epoch \u001b[0m│\u001b[1m    Loss \u001b[0m│\n",
                        "├──────────────────┼───────┼─────────┤\n",
                        "│ VAETrainingPhase │  37.0 │ 40.7541 │\n",
                        "└──────────────────┴───────┴─────────┘\n"
                    ]
                },
                {
                    "output_type": "stream",
                    "name": "stdout",
                    "text": [
                        "┌──────────────────┬───────┬─────────┐\n",
                        "│\u001b[1m            Phase \u001b[0m│\u001b[1m Epoch \u001b[0m│\u001b[1m    Loss \u001b[0m│\n",
                        "├──────────────────┼───────┼─────────┤\n",
                        "│ VAETrainingPhase │  38.0 │ 40.7183 │\n",
                        "└──────────────────┴───────┴─────────┘\n"
                    ]
                },
                {
                    "output_type": "stream",
                    "name": "stdout",
                    "text": [
                        "┌──────────────────┬───────┬─────────┐\n",
                        "│\u001b[1m            Phase \u001b[0m│\u001b[1m Epoch \u001b[0m│\u001b[1m    Loss \u001b[0m│\n",
                        "├──────────────────┼───────┼─────────┤\n",
                        "│ VAETrainingPhase │  39.0 │ 40.6225 │\n",
                        "└──────────────────┴───────┴─────────┘\n"
                    ]
                },
                {
                    "output_type": "stream",
                    "name": "stdout",
                    "text": [
                        "┌──────────────────┬───────┬─────────┐\n",
                        "│\u001b[1m            Phase \u001b[0m│\u001b[1m Epoch \u001b[0m│\u001b[1m    Loss \u001b[0m│\n",
                        "├──────────────────┼───────┼─────────┤\n",
                        "│ VAETrainingPhase │  40.0 │ 40.6534 │\n",
                        "└──────────────────┴───────┴─────────┘\n"
                    ]
                }
            ],
            "metadata": {}
        },
        {
            "cell_type": "code",
            "execution_count": 54,
            "source": [
                "xs = makebatch(method, data[\"testing\"][1], rand(1:nobs(data[\"testing\"]), 5))\n",
                "x̄s = decoder(sample_latent(encoder(flatten(gpu(xs)))...)) |> cpu\n",
                "x̄s = reshape(x̄s, 28, 28, 1, :);"
            ],
            "outputs": [],
            "metadata": {}
        },
        {
            "cell_type": "code",
            "execution_count": 55,
            "source": [
                "to_image(x) = Gray{N0f8}.(reshape(x, 28, 28))\n",
                "\n",
                "[to_image(x) for x in eachslice(xs; dims = ndims(xs))]"
            ],
            "outputs": [
                {
                    "data": {
                        "text/plain": [
                            "5-element Vector{Matrix{Gray{N0f8}}}:\n",
                            " [Gray{N0f8}(0.0) Gray{N0f8}(0.0) … Gray{N0f8}(0.0) Gray{N0f8}(0.0); Gray{N0f8}(0.0) Gray{N0f8}(0.0) … Gray{N0f8}(0.0) Gray{N0f8}(0.0); … ; Gray{N0f8}(0.0) Gray{N0f8}(0.0) … Gray{N0f8}(0.0) Gray{N0f8}(0.0); Gray{N0f8}(0.0) Gray{N0f8}(0.0) … Gray{N0f8}(0.0) Gray{N0f8}(0.0)]\n",
                            " [Gray{N0f8}(0.0) Gray{N0f8}(0.0) … Gray{N0f8}(0.0) Gray{N0f8}(0.0); Gray{N0f8}(0.0) Gray{N0f8}(0.0) … Gray{N0f8}(0.0) Gray{N0f8}(0.0); … ; Gray{N0f8}(0.0) Gray{N0f8}(0.0) … Gray{N0f8}(0.0) Gray{N0f8}(0.0); Gray{N0f8}(0.0) Gray{N0f8}(0.0) … Gray{N0f8}(0.0) Gray{N0f8}(0.0)]\n",
                            " [Gray{N0f8}(0.0) Gray{N0f8}(0.0) … Gray{N0f8}(0.0) Gray{N0f8}(0.0); Gray{N0f8}(0.0) Gray{N0f8}(0.0) … Gray{N0f8}(0.0) Gray{N0f8}(0.0); … ; Gray{N0f8}(0.0) Gray{N0f8}(0.0) … Gray{N0f8}(0.0) Gray{N0f8}(0.0); Gray{N0f8}(0.0) Gray{N0f8}(0.0) … Gray{N0f8}(0.0) Gray{N0f8}(0.0)]\n",
                            " [Gray{N0f8}(0.0) Gray{N0f8}(0.0) … Gray{N0f8}(0.0) Gray{N0f8}(0.0); Gray{N0f8}(0.0) Gray{N0f8}(0.0) … Gray{N0f8}(0.0) Gray{N0f8}(0.0); … ; Gray{N0f8}(0.0) Gray{N0f8}(0.0) … Gray{N0f8}(0.0) Gray{N0f8}(0.0); Gray{N0f8}(0.0) Gray{N0f8}(0.0) … Gray{N0f8}(0.0) Gray{N0f8}(0.0)]\n",
                            " [Gray{N0f8}(0.0) Gray{N0f8}(0.0) … Gray{N0f8}(0.0) Gray{N0f8}(0.0); Gray{N0f8}(0.0) Gray{N0f8}(0.0) … Gray{N0f8}(0.0) Gray{N0f8}(0.0); … ; Gray{N0f8}(0.0) Gray{N0f8}(0.0) … Gray{N0f8}(0.0) Gray{N0f8}(0.0); Gray{N0f8}(0.0) Gray{N0f8}(0.0) … Gray{N0f8}(0.0) Gray{N0f8}(0.0)]"
                        ],
                        "text/html": [
                            "<table><tbody><tr><td style='text-align:center;vertical-align:middle; margin: 0.5em;border:1px #90999f solid;border-collapse:collapse'><img style='max-width: 100px; max-height:100px;display:inline' src=\"data:image/png;base64,iVBORw0KGgoAAAANSUhEUgAAAHAAAABwCAAAAADji6uXAAAABGdBTUEAALGPC/xhBQAAAAFzUkdCAK7OHOkAAAAgY0hSTQAAeiYAAICEAAD6AAAAgOgAAHUwAADqYAAAOpgAABdwnLpRPAAAAeNJREFUaAW9wT+IlgUAB+Cn85eHYIaThqNuDg3q1JzglBDoFnKLDocJxtFit4i2Ca6Bs0uDRE4tDrpcDf1BRBAHx0Makg4V7mt4hw8Jv3u/++D3PFEWZVEWZVEWZVEWZbGgT/AbbuN7O4uyKIuyWNBPOGy8KIuyKIsFfIxPzSfKoizKYgFr2GPwzDhRFmVRFrv0GdYMvsDPxomyKIuy2IUlXMMevMAjbBsnyqIsymIXLuC0wS94abwoi7Ioi104a+qS+URZlEVZzGkFpw2eYNt8oizKoizmEJzHXvyLXzExnyiLsiiLOVzA5waP8RVWsIQN/G5nURZlURYj7ce6qX14gxhs4wa+M1uURVmUxUgrOGLquHct4QxuYsv7RVmURVmMcACr/u8VbmKCdZzAVVz3flEWZVEWI3yEY6YmuIPb+NPgWyzjQ7NFWZRFWYxwAh9ggn/wDX4wdQrLBq/NFmVRFmUxwklMDC7irql1rGIZG7hltiiLsiiLEf4wdQvn8BRf4qjBW9zHltmiLMqiLEZ4gL9xEIdw1rvu4Rr+srMoi7IoixE2cRJf47LBJn7EQ9zDK+NEWZRFWYz0HFdwxWKiLMqiLMqiLMqiLMqiLMqiLMqiLMqiLMqiLMqiLMqiLMqi7D/ojkBlK+dOmgAAAABJRU5ErkJg\"></td><td style='text-align:center;vertical-align:middle; margin: 0.5em;border:1px #90999f solid;border-collapse:collapse'><img style='max-width: 100px; max-height:100px;display:inline' src=\"data:image/png;base64,iVBORw0KGgoAAAANSUhEUgAAAHAAAABwCAAAAADji6uXAAAABGdBTUEAALGPC/xhBQAAAAFzUkdCAK7OHOkAAAAgY0hSTQAAeiYAAICEAAD6AAAAgOgAAHUwAADqYAAAOpgAABdwnLpRPAAAAmVJREFUaAW9wT9oXQUYB9Dzws+lHVzapUscBJMlCjo4tCmoUMUGMaA41EIQQUGKk0PiIGgFWzS4aRGE4uBShAaRuDUOLnEQh7i+LA5mcdAl8J7DHS6Xd98fHb5zolgUi2JRLIpFsSgWxaJYFItiUSyKRbEoFsVijgHewRD38TluYKRxD69aXBSLYlEsFrCLQ/yMD/EMVjU28RW+wKH5olgUi2Ixx1saT+EOXsZtfImHNLbwIq7iF7NFsSgWxWKGt/Gm1orGXazgPa3zeB+7ODBdFItiUSxmuIo1/bbxF25qbWADz+KBflEsikWxmOIyLun6SNdnGtewqvUdnsCxSVEsikWxmGIZZ7QOsa/rFJ/gW3yDNZzFw7iAY5OiWBSLYjHFjq4/caLfEJfwPa5o7GDDpCgWxaJY9LiBR3W9a76f8DyW8AiWMdQVxaJYFIseY4y17uLYfJ/iMVzHOZzDUFcUi2JRLBZwG6fmO8XXuI4j/G5SFItiUSwWcGRxmxrruIh9XVEsikWx6DHAwH/3Eh7HEkZYx76uKBbFolj0GGOs9QIe4B/TXcY2nsQIY2xiR1cUi2JRLHrcxxbWNPZwgGPc1DqPHQxwEWe0/sauSVEsikWx6DHEDva01jWuYYCx1gBjXQe4Y1IUi2JRLKb4AT/iiklLGGktYaT1G7b0i2JRLIrFDG/gY7yua4Sx1ghjredwol8Ui2JRLGb4A7fwNM7igtl+xTZOTBfFolgUizmOsIplbGEFr+g6wD3sYWi2KBbFolgsaIgPNF7z/0WxKBbFolgUi2JRLIpFsSgWxaJYFItiUexfp4pkmT7kC10AAAAASUVORK5C\"></td><td style='text-align:center;vertical-align:middle; margin: 0.5em;border:1px #90999f solid;border-collapse:collapse'><img style='max-width: 100px; max-height:100px;display:inline' src=\"data:image/png;base64,iVBORw0KGgoAAAANSUhEUgAAAHAAAABwCAAAAADji6uXAAAABGdBTUEAALGPC/xhBQAAAAFzUkdCAK7OHOkAAAAgY0hSTQAAeiYAAICEAAD6AAAAgOgAAHUwAADqYAAAOpgAABdwnLpRPAAAAYRJREFUaAW9wcFRGgEABdB3+GW4dSh9CLaRkTpw0oZgH2vqWNNHDntwnCAs4Pz3oizKoizKoizKoizKoizKoizKoizKoizKoizKoizKoizKoizKoizKoizK4kIDdrjDylcHbDH5XpRFWZTFQgN2WJsd8IK/eMAd1njD5HtRFmVRFgsMeMUKB2wx+WqDlfOiLMqiLBbYYYUXbB23xz32TouyKIuyOOMZa4zYOm6DR2ydF2VRFmVxxqPZk+NWeDV7w+S0KIuyKIsTNljhgMn/Brz6NDkvyqIsyuIKA9bY+TRhdF6URVmUxQmT2Rp7szuszEaMeMa7ZaIsyqIsThjxhF9YY8IBvzFhxM5sskyURVmUxRl77H1vMPtjmSiLsiiLG63NRstEWZRFWdxgYzZiskyURVmUxQ/4sFyURVmUxQ0ezd4tF2VRFmXxAz4sF2VRFmVxgwezveWiLMqiLK60weByURZlURY3mlwmyqIsyuJK92bvLhNlURZlcaUtti4XZVEWZf8Aywk2EURp9BsAAAAASUVORK5C\"></td><td style='text-align:center;vertical-align:middle; margin: 0.5em;border:1px #90999f solid;border-collapse:collapse'><img style='max-width: 100px; max-height:100px;display:inline' src=\"data:image/png;base64,iVBORw0KGgoAAAANSUhEUgAAAHAAAABwCAAAAADji6uXAAAABGdBTUEAALGPC/xhBQAAAAFzUkdCAK7OHOkAAAAgY0hSTQAAeiYAAICEAAD6AAAAgOgAAHUwAADqYAAAOpgAABdwnLpRPAAAAd9JREFUaAW9wSFvlAcABuDnkldhudPIoz+iZApdSCZxgF2CWtOkiuImqCLBsQS13XkUW9GTO3Tler9h38SJZuK+3rXN+zxRFmVRFmVRFmVRFmVRFmVRFmVRFmVRFmVxg0d4hamN11jgOQZ8wwprLHGJK9tFWZRFWYz4FU/xEBMMGHCEAStc4SUm+BnneGO7KIuyKIsb/IUl1ljY7jWOcWhclEVZlMWIF3a3xhQXxkVZlEVZ3JPfMOCbcVEWZVEW9+AAAwYsjIuyKIuyuKNH+IoJllgbF2VRFmVxR4d4iD/xxs2iLMqiLO7gCT7hCj/YTZRFWZTFLc3wCwa8s7soi7Ioi1uY4Q/McYr3dhdlURZlcQufMMcZzuwnyqIsymJPv+MpPuPc/qIsyqIs9nCCI5zhHGv7i7Ioi7LY0Vsc4wvOsXY7URZlURY7OMExznBqNzM8wwVWrkVZlEVZ3OBvzPEFp7abYYqfcIAn+Bc/YuValEVZlMWIE8yxwgsbMzxz7RCPMcUUDzDgg42F/4uyKIuyGHGECQ7wDwZMMGCCARNc4RIf8R0L20VZlEVZjHiHt5jbGGwssMZ3XGCNS7uJsiiLshixxNL9irIoi7Ioi7Ioi7Ioi7Ioi7Ioi7Ioi7L/AGjuUNMV8ESKAAAAAElFTkSuQmCC\"></td><td style='text-align:center;vertical-align:middle; margin: 0.5em;border:1px #90999f solid;border-collapse:collapse'><img style='max-width: 100px; max-height:100px;display:inline' src=\"data:image/png;base64,iVBORw0KGgoAAAANSUhEUgAAAHAAAABwCAAAAADji6uXAAAABGdBTUEAALGPC/xhBQAAAAFzUkdCAK7OHOkAAAAgY0hSTQAAeiYAAICEAAD6AAAAgOgAAHUwAADqYAAAOpgAABdwnLpRPAAAAd1JREFUaAW9wTGIlgUABuBHeU1EBTlwEhLitgbDTXApkJvyQESQBh2t4YYGh8jBob0QHQqUlhYncXC0wcEgwSAXF4cTLJEGF+kQbPiG49D//u/7k/d5oizKoizKoizKoizKoizKoizKoizKoizKoizKoizKoizKoizK4j27gSWsercoi7IoiwUcxEH8hX9sOoLTeG22KIuyKIuJzuAq1nHUVt9gL34yW5RFWZTFBF/gByzhO1udwGm8xC2zRVmURVlMcAFLeIxfbHUKO/Ar7potyqIsymKEPbiCY9jARTw3OITPcdbgPl6ZLcqiLMpijv14gGWDN1jBisEJLNt0x/aiLMqiLOY4jmWbduNLs32GP8wWZVEWZTHHx8b7G/dsL8qiLMpiju/xo7edwnWDW7iID/DI9qIsyqIs5niNl7bahTWDJ1jDunGiLMqiLBZwEp8Y3MG68aIsyqIsJgo+NVjH16aJsiiLspjoPL7CC6xiwzRRFmVRFhMcwLcGv+Gh6aIsyqIsJvgZh/EnLltMlEVZlMVIO3EEb3Abv1tMlEVZlMVIV/AhHuOaxUVZlEVZjLAfK/gXl/DU4qIsyqIsRtiHj3AON/0/URZlURYjPMNO70eURVmURVmURVmU/QcOeTs3KQVrHAAAAABJRU5ErkJg\"></td></tr></tbody></table><div><small>(a vector displayed as a row to save space)</small></div>"
                        ]
                    },
                    "metadata": {},
                    "output_type": "display_data"
                }
            ],
            "metadata": {}
        },
        {
            "cell_type": "code",
            "execution_count": 56,
            "source": [
                "[to_image(x) for x in eachslice(x̄s; dims = ndims(x̄s))]"
            ],
            "outputs": [
                {
                    "data": {
                        "text/plain": [
                            "5-element Vector{Matrix{Gray{N0f8}}}:\n",
                            " [Gray{N0f8}(0.0) Gray{N0f8}(0.0) … Gray{N0f8}(0.0) Gray{N0f8}(0.0); Gray{N0f8}(0.0) Gray{N0f8}(0.0) … Gray{N0f8}(0.0) Gray{N0f8}(0.0); … ; Gray{N0f8}(0.0) Gray{N0f8}(0.0) … Gray{N0f8}(0.0) Gray{N0f8}(0.0); Gray{N0f8}(0.0) Gray{N0f8}(0.0) … Gray{N0f8}(0.0) Gray{N0f8}(0.0)]\n",
                            " [Gray{N0f8}(0.0) Gray{N0f8}(0.0) … Gray{N0f8}(0.0) Gray{N0f8}(0.0); Gray{N0f8}(0.0) Gray{N0f8}(0.0) … Gray{N0f8}(0.0) Gray{N0f8}(0.0); … ; Gray{N0f8}(0.0) Gray{N0f8}(0.0) … Gray{N0f8}(0.0) Gray{N0f8}(0.0); Gray{N0f8}(0.0) Gray{N0f8}(0.0) … Gray{N0f8}(0.0) Gray{N0f8}(0.0)]\n",
                            " [Gray{N0f8}(0.0) Gray{N0f8}(0.0) … Gray{N0f8}(0.0) Gray{N0f8}(0.0); Gray{N0f8}(0.0) Gray{N0f8}(0.0) … Gray{N0f8}(0.0) Gray{N0f8}(0.0); … ; Gray{N0f8}(0.0) Gray{N0f8}(0.0) … Gray{N0f8}(0.0) Gray{N0f8}(0.0); Gray{N0f8}(0.0) Gray{N0f8}(0.0) … Gray{N0f8}(0.0) Gray{N0f8}(0.0)]\n",
                            " [Gray{N0f8}(0.0) Gray{N0f8}(0.0) … Gray{N0f8}(0.0) Gray{N0f8}(0.0); Gray{N0f8}(0.0) Gray{N0f8}(0.0) … Gray{N0f8}(0.0) Gray{N0f8}(0.0); … ; Gray{N0f8}(0.0) Gray{N0f8}(0.0) … Gray{N0f8}(0.0) Gray{N0f8}(0.0); Gray{N0f8}(0.0) Gray{N0f8}(0.0) … Gray{N0f8}(0.0) Gray{N0f8}(0.0)]\n",
                            " [Gray{N0f8}(0.0) Gray{N0f8}(0.0) … Gray{N0f8}(0.0) Gray{N0f8}(0.0); Gray{N0f8}(0.0) Gray{N0f8}(0.0) … Gray{N0f8}(0.0) Gray{N0f8}(0.0); … ; Gray{N0f8}(0.0) Gray{N0f8}(0.0) … Gray{N0f8}(0.0) Gray{N0f8}(0.0); Gray{N0f8}(0.0) Gray{N0f8}(0.0) … Gray{N0f8}(0.0) Gray{N0f8}(0.0)]"
                        ],
                        "text/html": [
                            "<table><tbody><tr><td style='text-align:center;vertical-align:middle; margin: 0.5em;border:1px #90999f solid;border-collapse:collapse'><img style='max-width: 100px; max-height:100px;display:inline' src=\"data:image/png;base64,iVBORw0KGgoAAAANSUhEUgAAAHAAAABwCAAAAADji6uXAAAABGdBTUEAALGPC/xhBQAAAAFzUkdCAK7OHOkAAAAgY0hSTQAAeiYAAICEAAD6AAAAgOgAAHUwAADqYAAAOpgAABdwnLpRPAAAAqdJREFUaAW9wT9rnXUcB9Dz3HyaJqZtQmuNCUK1DrYOCg5CZl+M4FtxdnOQgrN0chA3EXEQKkUtUqx/aamaNDZ4k5v7/BzuUEqT3KcVvudEsSgWxaJYFItiUSyKxTPoMMISzqHHHsaYojleFItiUSyeQYdTeB6vYhW3cB+76DFF70lRLIpFsXgKnZlgET3GWMYadhAcoDlaFItiUSyeUrCCVZzHOeziDraxj97xolgUi2IxQGcmWMVr2MJlNHyOHzBGc7IoFsWiWMzRocMIF7CFd3EVz+EGbuChYaJYFItiMUdDM3Me7+ENrOFP3MY1HBgmikWxKBZP4W1sYgF38THex8RwUSyKRbEYaAlv4leMcR2fYYIROhyiOVkUi2JRLAbo8CJuYh238QV2sG5mGw/QoTleFItiUSwGGGGEA+zhBnpsYYS/8CP+xdjjOjSPRLEoFsVijg6LmGATv2AHL+EyFvAWLmAfd3CIhg4dmkeiWBSLYjHHyMwyzuJ77OIFrOJ1nMNZbOMeHpppaB4XxaJYFIsBOmzgEFOs4CIu4gwWsYFNLGEPvaNFsSgWxWKOhmVcwWms4B8sYIw7WMMilhEzHZonRbEoFsVigEWcwgQ9JpjiJ6yiYQEP0DtZFItiUSwGOMTLWMM3mCDosIe/sYBbGKM5XhSLYlEsBjjALq5iHQ2vYAGXEHyI37CHhuZoUSyKRbGYo2GM6ziLd7CBSziN+/gAN/EHpmY6NE+KYlEsisUcDRPcw7e4gk30+BKf4Gv8jn00M83RolgUi2IxQI/7+ApnsINtfIrvcBdjNHRojhfFolgUiwE69PgZH+EaRmg4xAGameZkUSyKRbEYoKHHBD16NDM9muGiWBSLYjFQwxRT/08Ui2JRLIpFsSgWxaJYFItiUew//8ifo3F+sj8AAAAASUVORK5C\"></td><td style='text-align:center;vertical-align:middle; margin: 0.5em;border:1px #90999f solid;border-collapse:collapse'><img style='max-width: 100px; max-height:100px;display:inline' src=\"data:image/png;base64,iVBORw0KGgoAAAANSUhEUgAAAHAAAABwCAAAAADji6uXAAAABGdBTUEAALGPC/xhBQAAAAFzUkdCAK7OHOkAAAAgY0hSTQAAeiYAAICEAAD6AAAAgOgAAHUwAADqYAAAOpgAABdwnLpRPAAAA4NJREFUaAW9wUtvVAUYANAzc7+hD2mhU0qVxsZ2AYkWEuNKE6P+ajeuXBh3IgmKJiBoo33QUtqZKTNz71wXdzF0CiEx5jsnJAvJQrKQLCQLyUKykCy8QwstjdpU7b8JyUKykCy8RUujQIEWahRooY0JSpSYoPZuIVlIFpKFN2ihjcAilrGE61jBCkrs4RA9nGGAMSaoMXFZSBaShWRhRgstFFjEGrZwB9tYwzxOsY8j/I2nOMQR+ihRo3ZRSBaShWThDQrM4wZ28Dl2sIoxBpigRo2xRhsTjT4mqF0UkoVkIVmY0UYHS7iDL/AZuujjHxzgBCcYo4MNjRHGKFFh4qKQLCQLycIbtHETd7GDFQzwEPfxFwYosIg5rGEdFcYYo0SFiamQLCQLycKMGgvYxse4iRoP8R0eYYACHbSwisAH2NKoMcYQE1MhWUgWkoUZbazhNjYwh6f4EY9wgDY6GKLAAgYaq7iKNs7QR2kqJAvJQrIwo4Nb2MQyRniCpzhGiTm0UGAJ17CCJXRxHfPYxQnOUWuEZCFZSBZmzKOLJQRe4k8cY4gCgVUUuIICBQoso4s5PMQuXqDSCMlCspAszLiCAoEJjnGAU40OVtBBjRHOsI853MIauriNn1Cg0gjJQrKQLMxoa9QYYoDnKBFYQIEaJV6hj0NU2MAmruF9dBEYaYRkIVlIFl7TwgQVKlQoUSBQo8JLVGihh3MU6GAHHSxiAQsuCslCspAszCgxwgAl2ujiCnroYYwaLYxQIfAKgWsoUKGFylRIFpKFZGFGjXOcYYhFfIjf8AIjVKgxQWVqHbdxEz300UNlKiQLyUKyMGOCU+zjI8xjE59iiD2co8QIbbSwji9xF1fQxy72UJkKyUKykCzMKHGMZ9jGJm7gHtr4Hfs4whiBRXyFb/ARBniMBzhEbSokC8lCsjCjxCme4RcsootlbOE99HCEc40NfI17OMdjfI9H6LkoJAvJQrIwo0Ife/hZ4xMs4CqWNHo4xzzWsI0z7OJb/IADDF0UkoVkIVl4TY0KQ5xhF6+wiy2so4tFXMUQIwxwH8f4FQ+wi77LQrKQLCQLM2qM0UOJAZ7jCdawgWWNlzjECUqcYx9nqFC6LCQLyUKyMKNGjRHG6CFQ4A90UGCCEiUqVBi5rHZRSBaShWThLWrUGpX/T0gWkoVkIVlIFpKFZCFZSBaShWT/AoMc/wt+T6BYAAAAAElFTkSuQmCC\"></td><td style='text-align:center;vertical-align:middle; margin: 0.5em;border:1px #90999f solid;border-collapse:collapse'><img style='max-width: 100px; max-height:100px;display:inline' src=\"data:image/png;base64,iVBORw0KGgoAAAANSUhEUgAAAHAAAABwCAAAAADji6uXAAAABGdBTUEAALGPC/xhBQAAAAFzUkdCAK7OHOkAAAAgY0hSTQAAeiYAAICEAAD6AAAAgOgAAHUwAADqYAAAOpgAABdwnLpRPAAAA2hJREFUaAW9wctSXFUUANB1bu8GIRCIxkd8laUOdOb//4IjZ45SamlRieYBBNKve7aDS1WnE9DKZK8VioVioVgoFoqFYqFYKBbeQ0Ozq3s/oVgoFoqF/9BMGhoaGga7EomORJqkd4VioVgoFu7QTBoGDBgwYEBDQ2JERzPpSCQSaSsUC8VCsXCLZjJgwAwzBOYYMLM1YkRHx4gNRoxIW6FYKBaKhTsMmCGwhwMc4giH2Mc+Oha4xBVeY4kl1kgk0iQUC8VCsfCGhoYZ5tjHPZziE3yNT3EPgQEbXOIJ/sQTXCDRscGAjkQoFoqFYuHGgAGBPRziAT7Dd/gBjzDDK1xhgwOc4J7JCiss0DCg2wrFQrFQLNxoCOzhACf4DD/iJ3yJjjM8xj8mH+MRHuAjPEGYdHQk0iQUC8VCsXCLhn18iC/xECs8xi/4DRc4MvkChzjG3KRjREfaCsVCsVAs3EiM2GA0OcIxFjjDz/gVz7FBYoZjHGEfI1YYkd4VioVioVi4kejYYGMS6HiBx/gdL7DCHMf4BKcIJBZYYI2OtCsUC8VCsXAj0dHQkUiscI1zdBziACf4Bl/gPl7hAi/xGmt0pF2hWCgWioU7jFhhiYb7+AojAif4HB8jcIUnuMTG3UKxUCwUC29IJEYscY6XuI+HOMUMM8xxilMknuEpFkiThoa0FYqFYqFYeEMzGbHAGeZ4hGPsYUDHEh/gACs8w1MskSYNA0ZboVgoFoqFWzQs8DfWOMcJ9tDQcR/fYoZr/IVzrNHR0JB2hWKhWCgW3tIwYoHEBgs8RyAxw/cIbPAMZ1ggkUiTtCsUC8VCsXCLjhFrDGjYYEDDIT7AgAv8iZfo6EiTRNoVioVioVh4S6Ih0TFijYYZ9nCII4x4ijNcY0QikUiTtBWKhWKhWLhFItExYsQaDXOc4hBXuMRzvMaINEkk0q5QLBQLxcIbEh2DSaJjRGCOEzzAPpZ4hddYYINER0d6VygWioVi4RaJjoZEmsyxhxk2uMICHde4wtpWIu0KxUKxUCy8JZEmiTSZYYkFllijY8AKHR1pkm4XioVioVi4Q5qMtma4xgIXWOEc/2BjK90tFAvFQrFwhzRJJDo6Oq7xh8kVXuASo/8XioVioVj4D2lrxIgVzjEg0dGRSP8vFAvFQrF/Afl9Im8fdXTXAAAAAElFTkSuQmCC\"></td><td style='text-align:center;vertical-align:middle; margin: 0.5em;border:1px #90999f solid;border-collapse:collapse'><img style='max-width: 100px; max-height:100px;display:inline' src=\"data:image/png;base64,iVBORw0KGgoAAAANSUhEUgAAAHAAAABwCAAAAADji6uXAAAABGdBTUEAALGPC/xhBQAAAAFzUkdCAK7OHOkAAAAgY0hSTQAAeiYAAICEAAD6AAAAgOgAAHUwAADqYAAAOpgAABdwnLpRPAAAA1RJREFUaAW9wVtrXFUYANC1Z77MJWaaaEJbUxEURB8U//+/EPRBtCAEqrbmZtrJXM/ZPpzCZNJJK3341grJQrKQLCQLyUKykCwkC8lCspAsJAsfUHQKik6xUXUqqk71sJAsJAvJwgMKCnrooYc+Aj0UFJ2KNRo0aNCioqLaCMlCspAs7FDQQyAwxBiHOMExDjBCxQ1e4RI3mGKOFRo0aHVCspAsJAs7FPQxwCc4wim+w7d4ggl6WOMf/IbneIFzvMYMS1RUVIRkIVlIFu4p6CEwxASn+BE/4An20KCijwNMMME+Buijh2JbSBaShWRhh4IeAvt4jFMMcYELXKGHCSr+xRxLNGjRokW1EZKFZCFZ2KGiwRqBI4xxjT/wHK9xiFNMcIsZ5lhghQYtKqpOSBaShWRhhxYrLFExwgrXOMMLNBjq7KFggRkWWGGNBtVGSBaShWThnqrTokUfLW4xRx8HqHiKZxjiErd4g1sssEZrW0gWkoVkYYdqY4lbLDDGF/gUY3yNR7jCDc5xgxnWaFFtC8lCspAsvEeDOV6jwTG+whj7GGKKv3COK9xijRbVu0KykCwkCw+oaDDFFaYIfIYjDLHCGmu8wQItqoeFZCFZSBbeo8EU57jEG8wwxAwt1ggUFBQUVLuFZCFZSBYeUNBDgxuc4yUKhljiEMcYY4Ih3tgoNqpOSBaShWThjoKCgj4CgYIlLjDDNWb4BmMMcIQR+mhQUHVaGyFZSBaShbeKTkEfgQGGGKGPGc5xhooBvsQAh9jHAC1aVLS2hWQhWUgW7igoKOhjgDHG6GOKP3GJEZZYYg99DLCHlU7rXSFZSBaShXsKCgr6GGOEghmWGOEIJxihYq1T0EODimpbSBaShWThAQUFPYzwCGP00eIZvscJrjDHEi1aVLSotoVkIVlIFt6qKKgoKOihoIdHOMYAQ3yBz7HEGV7gCnOs0KJFRbURkoVkIVm4o6KiQYM11lhhjQme4gQHqHiJn/ErzrFERUFFtS0kC8lCsnBHRauzQEWDOa7xN07xGPuY4nf8hFdYotWpdgvJQrKQLNxT0aDBElNc4Ay/YA972EPBAjOsUH1YSBaShWThAyoqWqyx0Cm2Vf9PSBaShWThI1UfJyQLyUKy/wA95fu0OQ/CgAAAAABJRU5ErkJg\"></td><td style='text-align:center;vertical-align:middle; margin: 0.5em;border:1px #90999f solid;border-collapse:collapse'><img style='max-width: 100px; max-height:100px;display:inline' src=\"data:image/png;base64,iVBORw0KGgoAAAANSUhEUgAAAHAAAABwCAAAAADji6uXAAAABGdBTUEAALGPC/xhBQAAAAFzUkdCAK7OHOkAAAAgY0hSTQAAeiYAAICEAAD6AAAAgOgAAHUwAADqYAAAOpgAABdwnLpRPAAAAwBJREFUaAW9wc1vVHUUANDzm7ltkaq1EgIVQVloiGGjwa0rV/7P7kwwumChJkKqdIHyYfmQlqGl89518RZDaWdsNbnnhGKhWCgWioVioVgoFoqF/6CZSacTioVioVg4pYaGhhEaEokeaZCOF4qFYqFYOKFmZowxGhoSiUSPHj3SUaFYKBaKhVMKrGCMhkRiig6JNF8oFoqFYmGBZtAwwhJWsY41vIuGHWzjMSZmGtJhoVgoFoqFYzQ0jDDGMs7iAj7FDXyCZfyNx9jED7iLHRygN5MGoVgoFoqFNzQ0jDDCEs7gIr7CN7iMEXYxwgts4DO8QIcJpuiQZkKxUCwUC8doBonO4Cq+xiXs4h7+wCNMsY5zWMdTHKBHojdIhGKhWCgWXtMM0mHv4DqWcAu/4j4mGGEd59HMJBKJRBqEYqFYKBYWGOEsLhv8iN/wJ15iFRvYwBk8x1PsYh8d0mGhWCgWioXXJJqZEVbQYQsTbGOCM/gYV7CBZ3iAJ3iJKdJRoVgoFoqFYySaQYdn2MIqxljDVVzHBlZwD9vYQ490vFAsFAvFwhvSoEeHfTxB4ByWsYIL2MCH2ME2HmMPaSYdFoqFYqFYWKDHHhJTTNFjhDEuYgWbuINtHCDNF4qFYqFYWCAxxRiv8ASvsIoPsIaH+A63sYseab5QLBQLxcIczSDRYwcdRriEzzHCLdzEX+gMGtKgIc2EYqFYKBbmSDSDDhM0vI8vcQ5b+Ba/4wANDWm+UCwUC8XCCSWWcQVfYA/f4xfso6EhkWbSYaFYKBaKhTnSYWOs4QY28AC3sIOGhg5psVAsFAvFwgk0vIWPcQ1T3MYmejT06JEWC8VCsVAs/IuGMdZxDW/jIX7CU0zRoXNUOioUC8VCsbBAwzLew0c4jx3cxSb2keiQTiYUC8VCsTBHQzMInMcSHuEOtvAc+0gnF4qFYqFYmCOR6NDhBR5iB3dwH3tIpxOKhWKhWFgg0eEZbuJn7GEbE6TTC8VCsVAsLJDoMcFL3Efv/wnFQrFQ7B+05dRaPNP4pgAAAABJRU5ErkJg\"></td></tr></tbody></table><div><small>(a vector displayed as a row to save space)</small></div>"
                        ]
                    },
                    "metadata": {},
                    "output_type": "display_data"
                }
            ],
            "metadata": {}
        }
    ],
    "metadata": {
        "orig_nbformat": 4,
        "language_info": {
            "name": "python"
        }
    },
    "nbformat": 4,
    "nbformat_minor": 2
}